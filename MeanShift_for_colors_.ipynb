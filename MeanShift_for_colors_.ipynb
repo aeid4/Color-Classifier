{
  "nbformat": 4,
  "nbformat_minor": 0,
  "metadata": {
    "colab": {
      "provenance": [],
      "collapsed_sections": []
    },
    "kernelspec": {
      "name": "python3",
      "display_name": "Python 3"
    }
  },
  "cells": [
    {
      "cell_type": "code",
      "metadata": {
        "id": "Tk-0cZcdWm6m",
        "colab": {
          "base_uri": "https://localhost:8080/",
          "height": 401
        },
        "outputId": "e5229244-2a5b-4543-9818-f3a92d0e24b6"
      },
      "source": [
        "import numpy as np\n",
        "import matplotlib.pyplot as plt\n",
        "from sklearn.cluster import MeanShift\n",
        "from matplotlib import style\n",
        "style.use(\"ggplot\")\n",
        "\n",
        "my_input = np.array([[157,18,3],[132,43,28],[151,26,9],\n",
        "                     [148,155,5],[146,124,14],[127,132,28],\n",
        "                     [67,174,13],[19,141,22],[34,126,43],\n",
        "                     [7,129,126],[23,115,113],[42,94,94],\n",
        "                     [17,5,131],[29,22,114],[43,35,101],\n",
        "                     [129,7,94],[115,21,99],[105,31,72]\n",
        "                    ])\n",
        "\n",
        "my_output = [1,1,1,2,2,2,3,3,3,4,4,4,5,5,5,6,6,6]\n",
        "# 1= red   2= Yellow   3= Green    4=Blue    5=Dark blue    6= pink\n",
        "# write the code for building the model here\n",
        "my_model = MeanShift()\n",
        "\n",
        "# write the code for training the model here\n",
        "my_model.fit(my_input)\n",
        "\n",
        "#ploting\n",
        "print(\"cluster_centers:\\n\", my_model.cluster_centers_)\n",
        "print(\"lables: \", my_model.labels_)\n",
        "\n",
        "colors= [\"g.\", \"r.\",\"c.\",\"y.\"]\n",
        "\n",
        "plt.scatter(my_input[:,0], my_input[:,1], c = my_model.labels_)\n",
        "plt.scatter(my_model.cluster_centers_[:,0],my_model.cluster_centers_[:,1], marker = \"x\", s=250, linewidths = 5)\n",
        "\n",
        "# write the code for predicting a new value here\n",
        "print(\"predict[[48,72,88]: \" , my_model.predict([[48,72,88]]))\n",
        "print(\"predict[203,199,43]: \" , my_model.predict([[203,199,43]]))\n",
        "print(\"predict[2,199,43]: \" , my_model.predict([[203,199,43]]))\n",
        "\n",
        "plt.scatter(my_input[:,0], my_input[:,1], my_input[:,2], c = my_output)\n",
        "\n",
        "plt.scatter(48,72,88, c = 'r')\n",
        "plt.scatter(203,199,43, c = 'r')\n",
        "plt.scatter(2,199,43, c = 'r')\n",
        "\n",
        "plt.show()\n"
      ],
      "execution_count": null,
      "outputs": [
        {
          "output_type": "stream",
          "text": [
            "cluster_centers:\n",
            " [[ 62.875       41.25       102.25      ]\n",
            " [131.5         24.33333333  50.83333333]\n",
            " [ 90.16666667 142.          20.83333333]]\n",
            "lables:  [1 1 1 2 2 2 2 2 2 0 0 0 0 0 0 1 1 1]\n",
            "predict[[48,72,88]:  [0]\n",
            "predict[203,199,43]:  [2]\n",
            "predict[2,199,43]:  [2]\n"
          ],
          "name": "stdout"
        },
        {
          "output_type": "display_data",
          "data": {
            "image/png": "[encoded data removed]",
            "text/plain": [
              "<Figure size 432x288 with 1 Axes>"
            ]
          },
          "metadata": {
            "tags": []
          }
        }
      ]
    },
    {
      "cell_type": "code",
      "metadata": {
        "id": "tMvigq66WsXt"
      },
      "source": [],
      "execution_count": null,
      "outputs": []
    }
  ]
}