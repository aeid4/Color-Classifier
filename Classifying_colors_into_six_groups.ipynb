{
  "nbformat": 4,
  "nbformat_minor": 0,
  "metadata": {
    "colab": {
      "provenance": [],
      "collapsed_sections": []
    },
    "kernelspec": {
      "name": "python3",
      "display_name": "Python 3"
    },
    "language_info": {
      "name": "python"
    }
  },
  "cells": [
    {
      "cell_type": "code",
      "source": [],
      "metadata": {
        "id": "lXXkFkfajfFU"
      },
      "execution_count": null,
      "outputs": []
    },
    {
      "cell_type": "markdown",
      "source": [
        "Hi Everyone :)\n",
        "\n",
        "The target of this excerise is to create a classifier that can identfy six colors.\n",
        "The model will have the ability to determine the color type of any new entered value.\n",
        "identify \n",
        "These six colors are: \n",
        "1= red   2= Yellow   3= Green    4=Blue    5=Dark blue    6= pink\n"
      ],
      "metadata": {
        "id": "mlDz5_0oHL9N"
      }
    },
    {
      "cell_type": "code",
      "execution_count": null,
      "metadata": {
        "id": "J_IHUzJ9IqHL"
      },
      "outputs": [],
      "source": [
        "# Starting by importing the needed library to preform the needed task\n",
        "import numpy as np\n",
        "import matplotlib.pyplot as plt\n",
        "from sklearn import svm\n",
        "from matplotlib import style\n",
        "style.use(\"ggplot\")"
      ]
    },
    {
      "cell_type": "markdown",
      "source": [
        "![image.png](data:image/png;base64,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)"
      ],
      "metadata": {
        "id": "-7a4fyw6LwXl"
      }
    },
    {
      "cell_type": "code",
      "source": [
        "# Let’s create 18 color samples that belong to the six colors mentioned earlier.\n",
        "#Note: the three-color numbers are taken based on \"RGB\" \n",
        "\n",
        "my_input = np.array([[157,18,3],[132,43,28],[151,26,9],\n",
        "                     [148,155,5],[146,124,14],[127,132,28],\n",
        "                     [67,174,13],[19,141,22],[34,126,43],\n",
        "                     [7,129,126],[23,115,113],[42,94,94],\n",
        "                     [17,5,131],[29,22,114],[43,35,101],\n",
        "                     [129,7,94],[115,21,99],[105,31,72]\n",
        "                    ])"
      ],
      "metadata": {
        "id": "mzW1JCfCJFqR"
      },
      "execution_count": null,
      "outputs": []
    },
    {
      "cell_type": "code",
      "source": [
        "# In here we identify the color of each sample so the model can learn\n",
        "# Where: 1= red   2= Yellow   3= Green    4=Blue    5=Dark blue    6= pink\n",
        "my_output = [1,1,1,2,2,2,3,3,3,4,4,4,5,5,5,6,6,6]"
      ],
      "metadata": {
        "id": "21HSUYhOJaii"
      },
      "execution_count": null,
      "outputs": []
    },
    {
      "cell_type": "code",
      "source": [
        "# Now, It is time to build our model to learn how to classify & identify  the colors:\n",
        "# Support Vector Machine (SVM) algorithm will be used in this case\n",
        "my_model= svm.SVC(kernel= 'linear', C=1.0)"
      ],
      "metadata": {
        "id": "1HyaXhHgKN3q"
      },
      "execution_count": null,
      "outputs": []
    },
    {
      "cell_type": "code",
      "source": [
        "# After building the model, we have to train it:\n",
        "my_model.fit(my_input, my_output)"
      ],
      "metadata": {
        "colab": {
          "base_uri": "https://localhost:8080/"
        },
        "id": "9rL6S0BhKT7_",
        "outputId": "6c79d799-4bc3-4155-ae6c-16d94092465d"
      },
      "execution_count": null,
      "outputs": [
        {
          "output_type": "execute_result",
          "data": {
            "text/plain": [
              "SVC(kernel='linear')"
            ]
          },
          "metadata": {},
          "execution_count": 5
        }
      ]
    },
    {
      "cell_type": "markdown",
      "source": [
        "Will test our model using three color samples and check if the built model was predicting correctly:"
      ],
      "metadata": {
        "id": "KYiAe-NvKz3_"
      }
    },
    {
      "cell_type": "code",
      "source": [
        "# write the code for predicting a new value here\n",
        "print(\"SVC predict[[48,72,88]: \" , my_model.predict([[48,72,88]]))\n",
        "print(\"SVC predict[203,199,43]: \" , my_model.predict([[203,199,43]]))\n",
        "print(\"SVC predict[2,199,43]: \" , my_model.predict([[203,199,43]]))\n",
        "\n",
        "# We can also show the colored samples:\n",
        "plt.scatter(my_input[:,0], my_input[:,1], my_input[:,2], c = my_output)\n",
        "\n",
        "plt.scatter(48,72,88, c = 'r')\n",
        "plt.scatter(203,199,43, c = 'r')\n",
        "plt.show()"
      ],
      "metadata": {
        "colab": {
          "base_uri": "https://localhost:8080/",
          "height": 317
        },
        "id": "aFv0LfXRKZyD",
        "outputId": "4a403989-2862-4b34-b5e3-79e294c6d3bb"
      },
      "execution_count": null,
      "outputs": [
        {
          "output_type": "stream",
          "name": "stdout",
          "text": [
            "SVC predict[[48,72,88]:  [4]\n",
            "SVC predict[203,199,43]:  [2]\n",
            "SVC predict[2,199,43]:  [2]\n"
          ]
        },
        {
          "output_type": "display_data",
          "data": {
            "text/plain": [
              "<Figure size 432x288 with 1 Axes>"
            ],
            "image/png": "[encoded data removed]"
          },
          "metadata": {}
        }
      ]
    }
  ]
}